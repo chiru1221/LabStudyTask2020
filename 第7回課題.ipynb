{
 "cells": [
  {
   "cell_type": "markdown",
   "metadata": {},
   "source": [
    "# 第7回課題\n",
    "2段階の train, valid, test にわける交差検証の自前の実装\n",
    "（パッケージにしたり関数にしたりするのは自由です．解答はしていません）\n",
    "\n",
    "https://scikit-learn.org/stable/modules/cross_validation.html　で様々なパターンについて述べられています"
   ]
  },
  {
   "cell_type": "markdown",
   "metadata": {},
   "source": [
    "# 注意事項\n",
    "train, valid, test で取ってくるサンプル（id）が一致しないということを必ず確認してください"
   ]
  },
  {
   "cell_type": "code",
   "execution_count": 1,
   "metadata": {
    "collapsed": true
   },
   "outputs": [],
   "source": [
    "import matplotlib.pyplot as plt\n",
    "%matplotlib inline\n",
    "import numpy as np\n",
    "import pandas as pd\n",
    "import random\n",
    "from sklearn.datasets import load_wine\n",
    "from sklearn.preprocessing import MinMaxScaler\n",
    "min_max_scaler = MinMaxScaler()"
   ]
  },
  {
   "cell_type": "code",
   "execution_count": 2,
   "metadata": {
    "collapsed": true
   },
   "outputs": [],
   "source": [
    "data = load_wine()"
   ]
  },
  {
   "cell_type": "code",
   "execution_count": 3,
   "metadata": {
    "collapsed": false
   },
   "outputs": [
    {
     "output_type": "stream",
     "name": "stdout",
     "text": "(178, 14)\n"
    },
    {
     "output_type": "execute_result",
     "data": {
      "text/plain": "    alcohol  malic_acid       ash  alcalinity_of_ash  magnesium  \\\n0  0.842105    0.191700  0.572193           0.257732   0.619565   \n1  0.571053    0.205534  0.417112           0.030928   0.326087   \n2  0.560526    0.320158  0.700535           0.412371   0.336957   \n3  0.878947    0.239130  0.609626           0.319588   0.467391   \n4  0.581579    0.365613  0.807487           0.536082   0.521739   \n\n   total_phenols  flavanoids  nonflavanoid_phenols  proanthocyanins  \\\n0       0.627586    0.573840              0.283019         0.593060   \n1       0.575862    0.510549              0.245283         0.274448   \n2       0.627586    0.611814              0.320755         0.757098   \n3       0.989655    0.664557              0.207547         0.558360   \n4       0.627586    0.495781              0.490566         0.444795   \n\n   color_intensity       hue  od280/od315_of_diluted_wines   proline  target  \n0         0.372014  0.455285                      0.970696  0.561341       0  \n1         0.264505  0.463415                      0.780220  0.550642       0  \n2         0.375427  0.447154                      0.695971  0.646933       0  \n3         0.556314  0.308943                      0.798535  0.857347       0  \n4         0.259386  0.455285                      0.608059  0.325963       0  ",
      "text/html": "<div>\n<style scoped>\n    .dataframe tbody tr th:only-of-type {\n        vertical-align: middle;\n    }\n\n    .dataframe tbody tr th {\n        vertical-align: top;\n    }\n\n    .dataframe thead th {\n        text-align: right;\n    }\n</style>\n<table border=\"1\" class=\"dataframe\">\n  <thead>\n    <tr style=\"text-align: right;\">\n      <th></th>\n      <th>alcohol</th>\n      <th>malic_acid</th>\n      <th>ash</th>\n      <th>alcalinity_of_ash</th>\n      <th>magnesium</th>\n      <th>total_phenols</th>\n      <th>flavanoids</th>\n      <th>nonflavanoid_phenols</th>\n      <th>proanthocyanins</th>\n      <th>color_intensity</th>\n      <th>hue</th>\n      <th>od280/od315_of_diluted_wines</th>\n      <th>proline</th>\n      <th>target</th>\n    </tr>\n  </thead>\n  <tbody>\n    <tr>\n      <td>0</td>\n      <td>0.842105</td>\n      <td>0.191700</td>\n      <td>0.572193</td>\n      <td>0.257732</td>\n      <td>0.619565</td>\n      <td>0.627586</td>\n      <td>0.573840</td>\n      <td>0.283019</td>\n      <td>0.593060</td>\n      <td>0.372014</td>\n      <td>0.455285</td>\n      <td>0.970696</td>\n      <td>0.561341</td>\n      <td>0</td>\n    </tr>\n    <tr>\n      <td>1</td>\n      <td>0.571053</td>\n      <td>0.205534</td>\n      <td>0.417112</td>\n      <td>0.030928</td>\n      <td>0.326087</td>\n      <td>0.575862</td>\n      <td>0.510549</td>\n      <td>0.245283</td>\n      <td>0.274448</td>\n      <td>0.264505</td>\n      <td>0.463415</td>\n      <td>0.780220</td>\n      <td>0.550642</td>\n      <td>0</td>\n    </tr>\n    <tr>\n      <td>2</td>\n      <td>0.560526</td>\n      <td>0.320158</td>\n      <td>0.700535</td>\n      <td>0.412371</td>\n      <td>0.336957</td>\n      <td>0.627586</td>\n      <td>0.611814</td>\n      <td>0.320755</td>\n      <td>0.757098</td>\n      <td>0.375427</td>\n      <td>0.447154</td>\n      <td>0.695971</td>\n      <td>0.646933</td>\n      <td>0</td>\n    </tr>\n    <tr>\n      <td>3</td>\n      <td>0.878947</td>\n      <td>0.239130</td>\n      <td>0.609626</td>\n      <td>0.319588</td>\n      <td>0.467391</td>\n      <td>0.989655</td>\n      <td>0.664557</td>\n      <td>0.207547</td>\n      <td>0.558360</td>\n      <td>0.556314</td>\n      <td>0.308943</td>\n      <td>0.798535</td>\n      <td>0.857347</td>\n      <td>0</td>\n    </tr>\n    <tr>\n      <td>4</td>\n      <td>0.581579</td>\n      <td>0.365613</td>\n      <td>0.807487</td>\n      <td>0.536082</td>\n      <td>0.521739</td>\n      <td>0.627586</td>\n      <td>0.495781</td>\n      <td>0.490566</td>\n      <td>0.444795</td>\n      <td>0.259386</td>\n      <td>0.455285</td>\n      <td>0.608059</td>\n      <td>0.325963</td>\n      <td>0</td>\n    </tr>\n  </tbody>\n</table>\n</div>"
     },
     "metadata": {},
     "execution_count": 3
    }
   ],
   "source": [
    "wine_df = pd.DataFrame(min_max_scaler.fit_transform(data[\"data\"]), columns=data[\"feature_names\"])\n",
    "wine_df = pd.concat([wine_df, pd.DataFrame(data[\"target\"], columns=[\"target\"])], axis=1)\n",
    "print(wine_df.shape)\n",
    "wine_df.head()"
   ]
  },
  {
   "cell_type": "markdown",
   "metadata": {},
   "source": [
    "# モデル（今回は決定木を利用）"
   ]
  },
  {
   "cell_type": "code",
   "execution_count": 4,
   "metadata": {
    "collapsed": true
   },
   "outputs": [],
   "source": [
    "from sklearn import tree\n",
    "clf = tree.DecisionTreeClassifier(random_state=0)"
   ]
  },
  {
   "cell_type": "markdown",
   "metadata": {},
   "source": [
    "# seed の設定"
   ]
  },
  {
   "cell_type": "code",
   "execution_count": 5,
   "metadata": {
    "collapsed": true
   },
   "outputs": [],
   "source": [
    "seed = 0\n",
    "random.seed(seed)\n",
    "np.random.seed(seed)"
   ]
  },
  {
   "cell_type": "markdown",
   "metadata": {},
   "source": [
    "# k-fold の k は変数で扱うこと"
   ]
  },
  {
   "cell_type": "code",
   "execution_count": 6,
   "metadata": {
    "collapsed": true
   },
   "outputs": [],
   "source": [
    "k = 5"
   ]
  },
  {
   "cell_type": "markdown",
   "metadata": {},
   "source": [
    "# train (valid 含む), test の分割"
   ]
  },
  {
   "cell_type": "code",
   "execution_count": 7,
   "metadata": {
    "collapsed": true
   },
   "outputs": [],
   "source": [
    "def split_idx(data_len, k):\n",
    "    base_size = data_len // k\n",
    "    rest_size = data_len % k\n",
    "    split_size = [base_size * i + i if rest_size >= i else base_size * i + rest_size for i in range(0, k+1)]\n",
    "    split_idx = [np.arange(split_size[i], split_size[i+1]) for i in range(k)]\n",
    "    return split_idx"
   ]
  },
  {
   "cell_type": "code",
   "execution_count": 8,
   "metadata": {},
   "outputs": [
    {
     "output_type": "execute_result",
     "data": {
      "text/plain": "[array([ 0,  1,  2,  3,  4,  5,  6,  7,  8,  9, 10, 11, 12, 13, 14, 15, 16,\n        17, 18, 19, 20, 21, 22, 23, 24, 25, 26, 27, 28, 29, 30, 31, 32, 33,\n        34, 35]),\n array([36, 37, 38, 39, 40, 41, 42, 43, 44, 45, 46, 47, 48, 49, 50, 51, 52,\n        53, 54, 55, 56, 57, 58, 59, 60, 61, 62, 63, 64, 65, 66, 67, 68, 69,\n        70, 71]),\n array([ 72,  73,  74,  75,  76,  77,  78,  79,  80,  81,  82,  83,  84,\n         85,  86,  87,  88,  89,  90,  91,  92,  93,  94,  95,  96,  97,\n         98,  99, 100, 101, 102, 103, 104, 105, 106, 107]),\n array([108, 109, 110, 111, 112, 113, 114, 115, 116, 117, 118, 119, 120,\n        121, 122, 123, 124, 125, 126, 127, 128, 129, 130, 131, 132, 133,\n        134, 135, 136, 137, 138, 139, 140, 141, 142]),\n array([143, 144, 145, 146, 147, 148, 149, 150, 151, 152, 153, 154, 155,\n        156, 157, 158, 159, 160, 161, 162, 163, 164, 165, 166, 167, 168,\n        169, 170, 171, 172, 173, 174, 175, 176, 177])]"
     },
     "metadata": {},
     "execution_count": 8
    }
   ],
   "source": [
    "# test index list\n",
    "split_idx(wine_df.shape[0], k)"
   ]
  },
  {
   "cell_type": "markdown",
   "metadata": {},
   "source": [
    "# 交差検証\n",
    "train, valid を分割しつつ valid をテスト"
   ]
  },
  {
   "cell_type": "code",
   "execution_count": 9,
   "metadata": {
    "collapsed": true
   },
   "outputs": [],
   "source": [
    "from sklearn.metrics import accuracy_score # 回答はaccuracy だけにしています．ここも特にしていないです"
   ]
  },
  {
   "cell_type": "code",
   "execution_count": 10,
   "metadata": {
    "collapsed": false
   },
   "outputs": [],
   "source": [
    "# k回訓練し，valid で評価\n",
    "def cv_valid(x, y, k):\n",
    "    idx = split_idx(x.shape[0], k)\n",
    "    data_idx = np.arange(x.shape[0])\n",
    "    # data shuffle\n",
    "    np.random.shuffle(data_idx)\n",
    "    x = x[data_idx]\n",
    "    y = y[data_idx]\n",
    "\n",
    "    def cv_map_lapper(valid_idx):\n",
    "        train_idx = np.setdiff1d(data_idx, valid_idx)\n",
    "        x_train, y_train = x[train_idx], y[train_idx]\n",
    "        x_valid, y_valid = x[valid_idx], y[valid_idx]\n",
    "        clf.fit(x_train, y_train)\n",
    "        y_pred = clf.predict(x_valid)\n",
    "        return accuracy_score(y_valid, y_pred)\n",
    "    \n",
    "    acc = list(map(cv_map_lapper, idx))\n",
    "    return acc"
   ]
  },
  {
   "cell_type": "code",
   "execution_count": 11,
   "metadata": {
    "collapsed": false
   },
   "outputs": [],
   "source": [
    "# train すべてで訓練し，test を評価\n",
    "def cv_test(x, y, k):\n",
    "    idx = split_idx(x.shape[0], k)\n",
    "    data_idx = np.arange(x.shape[0])\n",
    "\n",
    "    def cv_map_lapper(test_idx):\n",
    "        train_idx = np.setdiff1d(data_idx, test_idx)\n",
    "        x_train, y_train = x[train_idx], y[train_idx]\n",
    "        x_test, y_test = x[test_idx], y[test_idx]\n",
    "        # validation\n",
    "        valid_acc = cv_valid(x_train, y_train, k)\n",
    "        clf.fit(x_train, y_train)\n",
    "        y_pred = clf.predict(x_test)\n",
    "        return accuracy_score(y_test, y_pred), valid_acc\n",
    "    \n",
    "    acc = list(map(cv_map_lapper, idx))\n",
    "    return acc\n",
    "acc = cv_test(wine_df.iloc[:, :13].values, wine_df.iloc[:, 13].values, k)"
   ]
  },
  {
   "cell_type": "markdown",
   "metadata": {},
   "source": [
    "# 結果を表示"
   ]
  },
  {
   "cell_type": "code",
   "execution_count": 12,
   "metadata": {},
   "outputs": [],
   "source": [
    "from tabulate import tabulate"
   ]
  },
  {
   "cell_type": "code",
   "execution_count": 13,
   "metadata": {
    "collapsed": true
   },
   "outputs": [],
   "source": [
    "valid_score = np.array([acc[i][1] for i in range(k)]).T\n",
    "test_score = np.array([acc[i][0] for i in range(k)])\n",
    "score = np.concatenate([valid_score, np.mean(valid_score, axis=0).reshape(1, -1), test_score.reshape(1, -1)])\n",
    "score = np.concatenate([score, np.mean(score, axis=1).reshape(-1, 1)], axis=1)"
   ]
  },
  {
   "cell_type": "code",
   "execution_count": 14,
   "metadata": {},
   "outputs": [
    {
     "output_type": "stream",
     "name": "stdout",
     "text": "Name\\Score        CV_1      CV_2      CV_3      CV_4      CV_5    CV_Ave\n------------  --------  --------  --------  --------  --------  --------\nValid_1       0.896552  0.862069  0.965517  1         0.896552  0.924138\nValid_2       0.896552  0.965517  0.965517  0.896552  0.862069  0.917241\nValid_3       0.964286  1         0.928571  0.862069  0.965517  0.944089\nValid_4       0.928571  0.892857  1         0.964286  1         0.957143\nValid_5       0.857143  0.928571  0.964286  0.892857  0.892857  0.907143\nValid_Ave     0.908621  0.929803  0.964778  0.923153  0.923399  0.929951\nTest          0.916667  0.833333  0.805556  0.714286  0.914286  0.836825\n"
    }
   ],
   "source": [
    "headers = ['Name\\\\Score']\n",
    "headers.extend(['CV_{0}'.format(i+1) for i in range(k)])\n",
    "headers.append('CV_Ave')\n",
    "showindex = ['Valid_{0}'.format(i+1) for i in range(k)]\n",
    "showindex.extend(['Valid_Ave', 'Test'])\n",
    "print(tabulate(score, headers=headers, showindex=showindex))"
   ]
  },
  {
   "cell_type": "code",
   "execution_count": null,
   "metadata": {},
   "outputs": [],
   "source": []
  }
 ],
 "metadata": {
  "kernelspec": {
   "display_name": "Python 3",
   "language": "python",
   "name": "python3"
  },
  "language_info": {
   "codemirror_mode": {
    "name": "ipython",
    "version": 3
   },
   "file_extension": ".py",
   "mimetype": "text/x-python",
   "name": "python",
   "nbconvert_exporter": "python",
   "pygments_lexer": "ipython3",
   "version": "3.7.7-final"
  }
 },
 "nbformat": 4,
 "nbformat_minor": 0
}